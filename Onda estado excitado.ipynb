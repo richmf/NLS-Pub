{
 "cells": [
  {
   "cell_type": "code",
   "execution_count": 1,
   "id": "2f057e28",
   "metadata": {},
   "outputs": [],
   "source": [
    "from pylab import *\n",
    "from scipy.special import *\n",
    "from scipy.optimize import *"
   ]
  },
  {
   "cell_type": "markdown",
   "id": "7f5e9b04",
   "metadata": {},
   "source": [
    "Para el estado excitado\n",
    "$$\n",
    "\\phi_{I} = -\\frac{1}{a-\\sqrt{g^1} R_0 \\chi}\n",
    "$$\n",
    "\n",
    "$$\n",
    "\\phi_{II} = \\alpha_e \\sqrt{\\frac{m_e V_0}{g^1}} \\rm{ sn} \\left( \\alpha \\xi \\chi \\right)\n",
    "$$\n",
    "\n",
    "$$\n",
    "\\phi_{III} = \\frac{1}{a+\\sqrt{g^1} R_0 \\chi}\n",
    "$$\n",
    "\n",
    "donde $\\alpha _e = \\sqrt{ \\frac{2}{1+m_e} }$ y $\\chi = \\frac{x}{R_0}$ es una coordenada adimensional"
   ]
  },
  {
   "cell_type": "code",
   "execution_count": null,
   "id": "6cadf864",
   "metadata": {},
   "outputs": [],
   "source": []
  },
  {
   "cell_type": "code",
   "execution_count": null,
   "id": "fc61d04a",
   "metadata": {},
   "outputs": [],
   "source": []
  },
  {
   "cell_type": "code",
   "execution_count": null,
   "id": "4885f45a",
   "metadata": {},
   "outputs": [],
   "source": []
  },
  {
   "cell_type": "code",
   "execution_count": null,
   "id": "c11b791d",
   "metadata": {},
   "outputs": [],
   "source": []
  },
  {
   "cell_type": "code",
   "execution_count": null,
   "id": "7d0666f3",
   "metadata": {},
   "outputs": [],
   "source": []
  }
 ],
 "metadata": {
  "kernelspec": {
   "display_name": "Python 3",
   "language": "python",
   "name": "python3"
  },
  "language_info": {
   "codemirror_mode": {
    "name": "ipython",
    "version": 3
   },
   "file_extension": ".py",
   "mimetype": "text/x-python",
   "name": "python",
   "nbconvert_exporter": "python",
   "pygments_lexer": "ipython3",
   "version": "3.8.8"
  }
 },
 "nbformat": 4,
 "nbformat_minor": 5
}
